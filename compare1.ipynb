{
 "cells": [
  {
   "cell_type": "code",
   "execution_count": null,
   "metadata": {},
   "outputs": [],
   "source": [
    "aging_data=[[[[[0 for gainr in range(elements)] for j in range(aging_steps)] for i in range(aging_steps)] for h in range(aging_steps)] for g in range(aging_steps) ]\n",
    "\n",
    "for g in range(aging_steps):#variación de RDSON1\n",
    "    for h in range(aging_steps):#Variación de RDSON2\n",
    "            for i in range(aging_steps):#Variación de RDSON3\n",
    "                    for j in range(aging_steps):#Variación de RDSON4\n",
    "                        gain_count=-1\n",
    "                        for gain in gainr:#variación de Gain\n",
    "                            gain_count=gain_count+1\n",
    "                            if (gain<gain_vert):\n",
    "                                D2x=0\n",
    "                                D1x=gain\n",
    "                            elif(gain<gain_horz):\n",
    "                                D1x=D1_max\n",
    "                                D2x=1-D1x/gain\n",
    "                            else:\n",
    "                                D1x=1\n",
    "                                D2x=1-D1x/gain\n",
    "\n",
    "\n",
    "                            c=currents_L(L_ind,Vbus/gain,Vbus,P/(Vbus/gain),D1x,D2x,phi_bob,T)\n",
    "                            interv=intervals(D1x,D2x,phi_bob,T)\n",
    "                            Irms_M1,Irms_M2,Irms_M3,Irms_M4=Irms_Mi(D1x,D2x,phi_bob,fsw,interv[2],interv[5],interv[8],interv[11],interv[1],c[0],c[1],c[2],c[3])\n",
    "\n",
    "                            aux_M1=Losses_M1(D1x,Vbus/gain,c[3],c[1],fsw,M1_index,Vdrvr,Idrvr,Irms_M1,1+g/aging_steps*aging_max)\n",
    "                            aux_M2=Losses_M2(D1x,Vbus/gain,c[1],c[3],fsw,M2_index,Vdrvr,Idrvr,Irms_M2,1+h/aging_steps*aging_max)\n",
    "                            aux_M3=Losses_M3(D2x,Vbus,c[2],c[0],fsw,M3_index,Vdrvr,Idrvr,Irms_M3,1+i/aging_steps*aging_max)\n",
    "                            aux_M4=Losses_M4(D2x,Vbus,c[0],c[2],fsw,M4_index,Vdrvr,Idrvr,Irms_M4,1+j/aging_steps*aging_max)\n",
    "                            Iac_ind=max(c)-min(c)\n",
    "                            Irms_ind=Iind_avg(c[3],c[0],c[1],c[2],interv[2]-interv[1],interv[5]-interv[4],interv[8]-interv[7],interv[11]-interv[10])\n",
    "                            aux_L=Losses_ind(c_ind,x_ind,y_ind,Vol_ind,fsw,L_ind,Iac_ind,N_ind,Ae_ind,Irms_ind,Awire_ind,Lwire_ind,rho)\n",
    "                            aging_data[g][h][i][j][gain_count]=aux_M1+aux_M2+aux_M3+aux_M4+aux_L\n",
    "\n",
    "fig, ax = plt.subplots()\n",
    "\n",
    "ax.plot(gainr,aging_data[0][0][0][0],'y')\n",
    "ax.plot(gainr,aging_data[1][1][1][1],'k')\n",
    "ax.plot(gainr,aging_data[2][2][2][2],'k')\n",
    "ax.plot(gainr,aging_data[3][3][3][3],'r')\n",
    "\n",
    "\n",
    "# Ya tengo una base de datos con todos los posibles valores de pérdidas en función del envejecimiento de cada MOSFET.\n",
    "# aux1[age_MOSFET1][age_MOSFET2][age_MOSFET3][Age_MOSFET4][gain]\n",
    "# Se tienen n edades de envejecimiento para cada MOSFET\n"
   ]
  }
 ],
 "metadata": {
  "language_info": {
   "name": "python"
  }
 },
 "nbformat": 4,
 "nbformat_minor": 2
}
